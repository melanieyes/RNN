{
 "cells": [
  {
   "cell_type": "code",
   "execution_count": 1,
   "id": "0a252ec0-be73-498b-b05e-dde66a7ce9d1",
   "metadata": {},
   "outputs": [
    {
     "name": "stdout",
     "output_type": "stream",
     "text": [
      "Parameter containing:\n",
      "tensor([[-0.1882,  0.5530,  1.6267,  0.7013],\n",
      "        [ 1.7840, -0.8278, -0.2701,  1.3586],\n",
      "        [ 1.0281, -1.9094,  0.3182,  0.4211],\n",
      "        [-1.3083, -0.0987,  0.7647, -0.3680],\n",
      "        [ 0.2293,  1.3255,  0.1318,  2.0501],\n",
      "        [ 0.4058, -0.6624, -0.8745,  0.7203],\n",
      "        [ 0.5582,  0.0786, -0.6817,  0.6902],\n",
      "        [ 0.4309, -1.3067, -0.8823,  1.5977]], requires_grad=True)\n"
     ]
    }
   ],
   "source": [
    "import torch\n",
    "import torch.nn as nn\n",
    "\n",
    "vocab_size = 8\n",
    "embed_dim = 4\n",
    "embedding = nn.Embedding(vocab_size, embed_dim)\n",
    "\n",
    "custom_weights = torch.tensor( [[-0.1882,  0.5530,  1.6267,  0.7013],\n",
    "                                [ 1.7840, -0.8278, -0.2701,  1.3586],\n",
    "                                [ 1.0281, -1.9094,  0.3182,  0.4211],\n",
    "                                [-1.3083, -0.0987,  0.7647, -0.3680],\n",
    "                                [ 0.2293,  1.3255,  0.1318,  2.0501],\n",
    "                                [ 0.4058, -0.6624, -0.8745,  0.7203],\n",
    "                                [ 0.5582,  0.0786, -0.6817,  0.6902],\n",
    "                                [ 0.4309, -1.3067, -0.8823,  1.5977]]).float()\n",
    "embedding.weight = nn.Parameter(custom_weights)\n",
    "print(embedding.weight)"
   ]
  },
  {
   "cell_type": "code",
   "execution_count": 2,
   "id": "dac1a118-1f3c-4d67-a262-97df5e82157d",
   "metadata": {},
   "outputs": [
    {
     "name": "stdout",
     "output_type": "stream",
     "text": [
      "tensor([[-0.1882,  0.5530,  1.6267,  0.7013],\n",
      "        [ 0.2293,  1.3255,  0.1318,  2.0501],\n",
      "        [ 0.4309, -1.3067, -0.8823,  1.5977],\n",
      "        [ 1.0281, -1.9094,  0.3182,  0.4211],\n",
      "        [ 1.7840, -0.8278, -0.2701,  1.3586]], grad_fn=<EmbeddingBackward0>)\n"
     ]
    }
   ],
   "source": [
    "data = torch.tensor([0, 4, 7, 2, 1], dtype=torch.long)\n",
    "data_embedding = embedding(data)\n",
    "print(data_embedding)"
   ]
  },
  {
   "cell_type": "code",
   "execution_count": null,
   "id": "e075047c-4224-49cd-b117-e66eb61b33d3",
   "metadata": {},
   "outputs": [],
   "source": []
  },
  {
   "cell_type": "code",
   "execution_count": null,
   "id": "5c4e8012-3326-45eb-b92a-40afd55af3f5",
   "metadata": {},
   "outputs": [],
   "source": []
  },
  {
   "cell_type": "code",
   "execution_count": 3,
   "id": "9adffb45-41c5-4245-b33c-aa35a8404c7b",
   "metadata": {},
   "outputs": [
    {
     "ename": "TypeError",
     "evalue": "rand(): argument 'size' failed to unpack the object at pos 2 with error \"type must be tuple of ints,but got Tensor\"",
     "output_type": "error",
     "traceback": [
      "\u001b[0;31m---------------------------------------------------------------------------\u001b[0m",
      "\u001b[0;31mTypeError\u001b[0m                                 Traceback (most recent call last)",
      "Cell \u001b[0;32mIn[3], line 7\u001b[0m\n\u001b[1;32m      4\u001b[0m hidden_dim \u001b[38;5;241m=\u001b[39m \u001b[38;5;241m3\u001b[39m\n\u001b[1;32m      5\u001b[0m rnn \u001b[38;5;241m=\u001b[39m nn\u001b[38;5;241m.\u001b[39mRNN(embed_dim, hidden_dim, \n\u001b[1;32m      6\u001b[0m              batch_first\u001b[38;5;241m=\u001b[39m\u001b[38;5;28;01mTrue\u001b[39;00m, bias\u001b[38;5;241m=\u001b[39m\u001b[38;5;28;01mFalse\u001b[39;00m)\n\u001b[0;32m----> 7\u001b[0m \u001b[43mtorchsummary\u001b[49m\u001b[38;5;241;43m.\u001b[39;49m\u001b[43msummary\u001b[49m\u001b[43m(\u001b[49m\u001b[43mrnn\u001b[49m\u001b[43m,\u001b[49m\u001b[43m \u001b[49m\u001b[43mdata_embedding\u001b[49m\u001b[43m)\u001b[49m\n",
      "File \u001b[0;32m~/miniconda3/envs/torchenv/lib/python3.12/site-packages/torchsummary/torchsummary.py:60\u001b[0m, in \u001b[0;36msummary\u001b[0;34m(model, input_size, batch_size, device)\u001b[0m\n\u001b[1;32m     57\u001b[0m     input_size \u001b[38;5;241m=\u001b[39m [input_size]\n\u001b[1;32m     59\u001b[0m \u001b[38;5;66;03m# batch_size of 2 for batchnorm\u001b[39;00m\n\u001b[0;32m---> 60\u001b[0m x \u001b[38;5;241m=\u001b[39m [\u001b[43mtorch\u001b[49m\u001b[38;5;241;43m.\u001b[39;49m\u001b[43mrand\u001b[49m\u001b[43m(\u001b[49m\u001b[38;5;241;43m2\u001b[39;49m\u001b[43m,\u001b[49m\u001b[43m \u001b[49m\u001b[38;5;241;43m*\u001b[39;49m\u001b[43min_size\u001b[49m\u001b[43m)\u001b[49m\u001b[38;5;241m.\u001b[39mtype(dtype) \u001b[38;5;28;01mfor\u001b[39;00m in_size \u001b[38;5;129;01min\u001b[39;00m input_size]\n\u001b[1;32m     61\u001b[0m \u001b[38;5;66;03m# print(type(x[0]))\u001b[39;00m\n\u001b[1;32m     62\u001b[0m \n\u001b[1;32m     63\u001b[0m \u001b[38;5;66;03m# create properties\u001b[39;00m\n\u001b[1;32m     64\u001b[0m summary \u001b[38;5;241m=\u001b[39m OrderedDict()\n",
      "\u001b[0;31mTypeError\u001b[0m: rand(): argument 'size' failed to unpack the object at pos 2 with error \"type must be tuple of ints,but got Tensor\""
     ]
    }
   ],
   "source": [
    "import torchsummary\n",
    "\n",
    "embed_dim = 4\n",
    "hidden_dim = 3\n",
    "rnn = nn.RNN(embed_dim, hidden_dim, \n",
    "             batch_first=True, bias=False)\n",
    "torchsummary.summary(rnn, data_embedding)"
   ]
  },
  {
   "cell_type": "code",
   "execution_count": 4,
   "id": "f04eb307-7b56-470d-a3f2-0286bb530089",
   "metadata": {},
   "outputs": [
    {
     "name": "stdout",
     "output_type": "stream",
     "text": [
      "==========================================================================================\n",
      "Layer (type:depth-idx)                   Output Shape              Param #\n",
      "==========================================================================================\n",
      "└─RNN: 0-1                               [-1, 3]                   27\n",
      "==========================================================================================\n",
      "Total params: 27\n",
      "Trainable params: 27\n",
      "Non-trainable params: 0\n",
      "Total mult-adds (M): 0.00\n",
      "==========================================================================================\n",
      "Input size (MB): 0.00\n",
      "Forward/backward pass size (MB): 0.00\n",
      "Params size (MB): 0.00\n",
      "Estimated Total Size (MB): 0.00\n",
      "==========================================================================================\n"
     ]
    },
    {
     "data": {
      "text/plain": [
       "==========================================================================================\n",
       "Layer (type:depth-idx)                   Output Shape              Param #\n",
       "==========================================================================================\n",
       "└─RNN: 0-1                               [-1, 3]                   27\n",
       "==========================================================================================\n",
       "Total params: 27\n",
       "Trainable params: 27\n",
       "Non-trainable params: 0\n",
       "Total mult-adds (M): 0.00\n",
       "==========================================================================================\n",
       "Input size (MB): 0.00\n",
       "Forward/backward pass size (MB): 0.00\n",
       "Params size (MB): 0.00\n",
       "Estimated Total Size (MB): 0.00\n",
       "=========================================================================================="
      ]
     },
     "execution_count": 4,
     "metadata": {},
     "output_type": "execute_result"
    }
   ],
   "source": [
    "import torchsummary\n",
    "\n",
    "embed_dim = 4\n",
    "hidden_dim = 3\n",
    "rnn = nn.RNN(embed_dim, \n",
    "             hidden_dim, \n",
    "             batch_first=True)\n",
    "torchsummary.summary(rnn, data_embedding)"
   ]
  },
  {
   "cell_type": "code",
   "execution_count": null,
   "id": "d1205ac4-2ccd-4abe-b552-0b1dba519bb7",
   "metadata": {},
   "outputs": [],
   "source": []
  },
  {
   "cell_type": "markdown",
   "id": "13d73e0d-92ae-4c13-8c2b-090bb6dc302e",
   "metadata": {},
   "source": [
    "## Example"
   ]
  },
  {
   "cell_type": "code",
   "execution_count": 4,
   "id": "17dfbebb-e3ce-40f2-98e6-0fd83bb6a86c",
   "metadata": {},
   "outputs": [
    {
     "name": "stdout",
     "output_type": "stream",
     "text": [
      "tensor([[-0.1882,  0.5530,  1.6267,  0.7013],\n",
      "        [ 0.2293,  1.3255,  0.1318,  2.0501],\n",
      "        [ 0.4309, -1.3067, -0.8823,  1.5977],\n",
      "        [ 1.0281, -1.9094,  0.3182,  0.4211],\n",
      "        [ 1.7840, -0.8278, -0.2701,  1.3586]], grad_fn=<EmbeddingBackward0>)\n"
     ]
    }
   ],
   "source": [
    "import torch\n",
    "import torch.nn as nn\n",
    "\n",
    "vocab_size = 8\n",
    "embed_dim = 4\n",
    "embedding = nn.Embedding(vocab_size, embed_dim)\n",
    "\n",
    "custom_weights = torch.tensor( [[-0.1882,  0.5530,  1.6267,  0.7013],\n",
    "                                [ 1.7840, -0.8278, -0.2701,  1.3586],\n",
    "                                [ 1.0281, -1.9094,  0.3182,  0.4211],\n",
    "                                [-1.3083, -0.0987,  0.7647, -0.3680],\n",
    "                                [ 0.2293,  1.3255,  0.1318,  2.0501],\n",
    "                                [ 0.4058, -0.6624, -0.8745,  0.7203],\n",
    "                                [ 0.5582,  0.0786, -0.6817,  0.6902],\n",
    "                                [ 0.4309, -1.3067, -0.8823,  1.5977]]).float()\n",
    "embedding.weight = nn.Parameter(custom_weights)\n",
    "\n",
    "data = torch.tensor([0, 4, 7, 2, 1], \n",
    "                    dtype=torch.long)\n",
    "data_embedding = embedding(data)\n",
    "print(data_embedding)"
   ]
  },
  {
   "cell_type": "code",
   "execution_count": null,
   "id": "06b5aa76-b41b-4ffe-a0b0-6e143c5aae4c",
   "metadata": {},
   "outputs": [],
   "source": []
  },
  {
   "cell_type": "code",
   "execution_count": 5,
   "id": "0ec5fb94-1be4-4887-be10-b0e9b3d302ae",
   "metadata": {},
   "outputs": [],
   "source": [
    "embed_dim = 4\n",
    "hidden_dim = 3\n",
    "rnn = nn.RNN(embed_dim, \n",
    "             hidden_dim,\n",
    "             num_layers=1,\n",
    "             batch_first=True)\n",
    "\n",
    "rnn.bias_ih_l0 = nn.Parameter(torch.tensor([ 0.4481,  0.5537, -0.5006]).float())\n",
    "rnn.bias_hh_l0 = nn.Parameter(torch.tensor([ 0.0135, -0.2209,  0.1330]).float())\n",
    "rnn.weight_ih_l0 = nn.Parameter(torch.tensor([[-0.4174,  0.1953, -0.0365, -0.4025],\n",
    "                                              [ 0.4722, -0.4085, -0.0236,  0.3763],\n",
    "                                              [ 0.0550, -0.4921, -0.4307,  0.0855]]).float())\n",
    "rnn.weight_hh_l0 = nn.Parameter(torch.tensor([[-0.5511,  0.1260,  0.0463],\n",
    "                                              [-0.2291, -0.2084, -0.2352],\n",
    "                                              [-0.4341, -0.2682,  0.0612]]).float())"
   ]
  },
  {
   "cell_type": "code",
   "execution_count": null,
   "id": "2f165530-3787-4259-8892-79b6f3c49e66",
   "metadata": {},
   "outputs": [],
   "source": []
  },
  {
   "cell_type": "code",
   "execution_count": 6,
   "id": "d91ff418-be0c-43b0-8984-f90d50c6ad61",
   "metadata": {},
   "outputs": [
    {
     "name": "stdout",
     "output_type": "stream",
     "text": [
      "torch.Size([1, 5, 4])\n"
     ]
    }
   ],
   "source": [
    "test_data = data_embedding.reshape(1, 5, 4)\n",
    "print(test_data.shape)"
   ]
  },
  {
   "cell_type": "code",
   "execution_count": 7,
   "id": "cdd9c30a-23b8-4de6-a722-cb4b4b08e543",
   "metadata": {},
   "outputs": [
    {
     "name": "stdout",
     "output_type": "stream",
     "text": [
      "torch.Size([1, 5, 3])\n",
      "tensor([[[ 0.2973,  0.2388, -0.8593],\n",
      "         [-0.3616,  0.6365, -0.8125],\n",
      "         [-0.3297,  0.9502,  0.6365],\n",
      "         [-0.1884,  0.9009,  0.4258],\n",
      "         [-0.6319,  0.9454,  0.2323]]], grad_fn=<TransposeBackward1>)\n",
      "tensor([[-0.6319,  0.9454,  0.2323]], grad_fn=<SliceBackward0>)\n"
     ]
    }
   ],
   "source": [
    "rnn_output, rnn_hidden = rnn(test_data)\n",
    "\n",
    "# (N, L, H_out)\n",
    "print(rnn_output.shape) \n",
    "print(rnn_output)\n",
    "print(rnn_output[:, -1, :])"
   ]
  },
  {
   "cell_type": "code",
   "execution_count": 8,
   "id": "35f5057c-afec-461a-96a7-ab06d1115943",
   "metadata": {},
   "outputs": [
    {
     "name": "stdout",
     "output_type": "stream",
     "text": [
      "torch.Size([1, 1, 3])\n",
      "tensor([[[-0.6319,  0.9454,  0.2323]]], grad_fn=<StackBackward0>)\n",
      "torch.Size([1, 3])\n"
     ]
    }
   ],
   "source": [
    "# (num_layers, N, H_out)\n",
    "print(rnn_hidden.shape)  \n",
    "print(rnn_hidden)\n",
    "print(rnn_hidden[-1, :, :].shape)"
   ]
  },
  {
   "cell_type": "code",
   "execution_count": null,
   "id": "d28c7e5e-399a-4722-b4fd-4440776306d6",
   "metadata": {},
   "outputs": [],
   "source": []
  },
  {
   "cell_type": "markdown",
   "id": "c8bb605a-482e-4aea-87bb-5758dc875e97",
   "metadata": {},
   "source": [
    "## Verify"
   ]
  },
  {
   "cell_type": "code",
   "execution_count": 11,
   "id": "e0246ca8-9ad7-4bea-b400-5d867b06a5d0",
   "metadata": {},
   "outputs": [
    {
     "data": {
      "text/plain": [
       "torch.Size([4, 1])"
      ]
     },
     "execution_count": 11,
     "metadata": {},
     "output_type": "execute_result"
    }
   ],
   "source": [
    "data_embedding[0].reshape(4, 1).shape"
   ]
  },
  {
   "cell_type": "code",
   "execution_count": 12,
   "id": "d4cc7147-6a7a-4d39-8d67-f2cc301f05c4",
   "metadata": {},
   "outputs": [
    {
     "data": {
      "text/plain": [
       "tensor([ 0.2973,  0.2388, -0.8593], grad_fn=<TanhBackward0>)"
      ]
     },
     "execution_count": 12,
     "metadata": {},
     "output_type": "execute_result"
    }
   ],
   "source": [
    "h1 = torch.tanh(torch.matmul(rnn.weight_ih_l0, data_embedding[0]) + rnn.bias_ih_l0 + rnn.bias_hh_l0)\n",
    "h1"
   ]
  },
  {
   "cell_type": "code",
   "execution_count": 13,
   "id": "eded637c-3e22-4077-bfc7-7db6cddeeb70",
   "metadata": {},
   "outputs": [
    {
     "data": {
      "text/plain": [
       "tensor([-0.3616,  0.6365, -0.8125], grad_fn=<TanhBackward0>)"
      ]
     },
     "execution_count": 13,
     "metadata": {},
     "output_type": "execute_result"
    }
   ],
   "source": [
    "h2 = torch.tanh(torch.matmul(rnn.weight_ih_l0, data_embedding[1]) + torch.matmul(rnn.weight_hh_l0, h1) + rnn.bias_ih_l0 + rnn.bias_hh_l0)\n",
    "h2"
   ]
  },
  {
   "cell_type": "code",
   "execution_count": null,
   "id": "d2367f4c-c461-4854-8725-24b420b5d781",
   "metadata": {},
   "outputs": [],
   "source": []
  }
 ],
 "metadata": {
  "kernelspec": {
   "display_name": "Python 3 (ipykernel)",
   "language": "python",
   "name": "python3"
  },
  "language_info": {
   "codemirror_mode": {
    "name": "ipython",
    "version": 3
   },
   "file_extension": ".py",
   "mimetype": "text/x-python",
   "name": "python",
   "nbconvert_exporter": "python",
   "pygments_lexer": "ipython3",
   "version": "3.12.4"
  }
 },
 "nbformat": 4,
 "nbformat_minor": 5
}
